{
 "cells": [
  {
   "cell_type": "code",
   "execution_count": 2,
   "id": "d9bd2e4b",
   "metadata": {},
   "outputs": [],
   "source": [
    "from sklearn.naive_bayes import GaussianNB\n",
    "import numpy as np"
   ]
  },
  {
   "cell_type": "code",
   "execution_count": 3,
   "id": "8753fc22",
   "metadata": {},
   "outputs": [],
   "source": [
    "X = np.array([\n",
    "    [1, 2, 3],\n",
    "    [2, 3, 4],\n",
    "    [3, 4, 5],\n",
    "    [77, 84, 69],\n",
    "    [84, 69, 102],\n",
    "    [96, 102, 113]\n",
    "])\n",
    "y = np.array([0, 0, 0, 1, 1, 1])"
   ]
  },
  {
   "cell_type": "code",
   "execution_count": 4,
   "id": "1c92312f",
   "metadata": {},
   "outputs": [
    {
     "data": {
      "text/plain": [
       "array([0.5, 0.5])"
      ]
     },
     "execution_count": 4,
     "metadata": {},
     "output_type": "execute_result"
    }
   ],
   "source": [
    "gnb = GaussianNB().fit(X, y)\n",
    "priori = gnb.class_prior_\n",
    "priori"
   ]
  },
  {
   "cell_type": "code",
   "execution_count": 5,
   "id": "1fb98fb1",
   "metadata": {},
   "outputs": [
    {
     "data": {
      "text/plain": [
       "array([[ 46.66666667,  53.25      , 100.41666667],\n",
       "       [ 53.25      , 137.        ,  55.5       ],\n",
       "       [100.41666667,  55.5       , 262.66666667]])"
      ]
     },
     "execution_count": 5,
     "metadata": {},
     "output_type": "execute_result"
    }
   ],
   "source": [
    "X_classes = [X[y == c] for c in np.unique(y)]\n",
    "sw = sum(gnb.class_prior_[i] * np.cov(Xc, rowvar=False) for i, Xc in enumerate(X_classes))\n",
    "sw"
   ]
  },
  {
   "cell_type": "code",
   "execution_count": 7,
   "id": "62bb76c8",
   "metadata": {},
   "outputs": [
    {
     "data": {
      "text/plain": [
       "array([[1825.1882716, 1825.1882716, 1825.1882716],\n",
       "       [1825.1882716, 1825.1882716, 1825.1882716],\n",
       "       [1825.1882716, 1825.1882716, 1825.1882716]])"
      ]
     },
     "execution_count": 7,
     "metadata": {},
     "output_type": "execute_result"
    }
   ],
   "source": [
    "mean_global = np.mean(X)\n",
    "mean_classes = [np.mean(Xc) for Xc in X_classes]\n",
    "\n",
    "sb = np.zeros((X.shape[1], X.shape[1]))\n",
    "for i, (mean_c, priori_i) in enumerate(zip(mean_classes, gnb.class_prior_)):\n",
    "    diff = mean_c - mean_global\n",
    "    sb += priori_i * np.outer(diff, diff)\n",
    "sb"
   ]
  },
  {
   "cell_type": "code",
   "execution_count": 8,
   "id": "0cea92bb",
   "metadata": {},
   "outputs": [
    {
     "data": {
      "text/plain": [
       "array([[1871.85493827, 1878.4382716 , 1925.60493827],\n",
       "       [1878.4382716 , 1962.1882716 , 1880.6882716 ],\n",
       "       [1925.60493827, 1880.6882716 , 2087.85493827]])"
      ]
     },
     "execution_count": 8,
     "metadata": {},
     "output_type": "execute_result"
    }
   ],
   "source": [
    "sm = sw + sb\n",
    "sm"
   ]
  },
  {
   "cell_type": "code",
   "execution_count": 9,
   "id": "4e341c1b",
   "metadata": {},
   "outputs": [
    {
     "data": {
      "text/plain": [
       "np.float64(13.267882333416312)"
      ]
     },
     "execution_count": 9,
     "metadata": {},
     "output_type": "execute_result"
    }
   ],
   "source": [
    "j1 = np.trace(sm) / np.trace(sw)\n",
    "j1"
   ]
  },
  {
   "cell_type": "code",
   "execution_count": 12,
   "id": "957724d9",
   "metadata": {},
   "outputs": [
    {
     "data": {
      "text/plain": [
       "np.float64(3651.3765432092596)"
      ]
     },
     "execution_count": 12,
     "metadata": {},
     "output_type": "execute_result"
    }
   ],
   "source": [
    "j2 = np.linalg.det(sm) / np.linalg.det(sw)\n",
    "j2"
   ]
  },
  {
   "cell_type": "code",
   "execution_count": 14,
   "id": "932a9c74",
   "metadata": {},
   "outputs": [
    {
     "data": {
      "text/plain": [
       "np.float64(25623.674913047045)"
      ]
     },
     "execution_count": 14,
     "metadata": {},
     "output_type": "execute_result"
    }
   ],
   "source": [
    "j3 = np.trace(np.linalg.inv(sw) * sm)\n",
    "j3"
   ]
  }
 ],
 "metadata": {
  "kernelspec": {
   "display_name": ".venv",
   "language": "python",
   "name": "python3"
  },
  "language_info": {
   "codemirror_mode": {
    "name": "ipython",
    "version": 3
   },
   "file_extension": ".py",
   "mimetype": "text/x-python",
   "name": "python",
   "nbconvert_exporter": "python",
   "pygments_lexer": "ipython3",
   "version": "3.13.2"
  }
 },
 "nbformat": 4,
 "nbformat_minor": 5
}
