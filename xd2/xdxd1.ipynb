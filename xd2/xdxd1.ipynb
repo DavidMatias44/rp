{
 "cells": [
  {
   "cell_type": "code",
   "execution_count": 1,
   "id": "39704016",
   "metadata": {},
   "outputs": [],
   "source": [
    "import numpy as np"
   ]
  },
  {
   "cell_type": "code",
   "execution_count": 2,
   "id": "ff8ce9d0",
   "metadata": {},
   "outputs": [],
   "source": [
    "def scatter_matriz_w(x, y):\n",
    "    classes, counts = np.unique(y, return_counts=True)\n",
    "    priori = counts / len(y)\n",
    "    \n",
    "    sw = np.zeros((x.shape[1], x.shape[1]))\n",
    "    for i, class_ in enumerate(classes):\n",
    "        x_class_ = x[y == class_]\n",
    "        mean_class_ = np.mean(x_class_)\n",
    "\n",
    "        cov_class_ = np.dot((x_class_ - mean_class_).T, (x_class_ - mean_class_)) / (counts[i] - 1)\n",
    "        sw += priori[i] * cov_class_\n",
    "    \n",
    "    return sw"
   ]
  },
  {
   "cell_type": "code",
   "execution_count": 3,
   "id": "cdf66302",
   "metadata": {},
   "outputs": [],
   "source": [
    "def scatter_matriz_b(x, y):\n",
    "    sb = np.zeros((x.shape[1], x.shape[1]))\n",
    "    global_mean = np.mean(x)\n",
    "\n",
    "    classes = np.unique(y)\n",
    "    for class_ in classes:\n",
    "        x_class_ = x[y == class_]\n",
    "        mean_class_ = np.mean(x_class_)\n",
    "        n_class_ = x.shape[0]\n",
    "\n",
    "        diff = mean_class_ - global_mean\n",
    "        diff = diff.reshape(-1, 1)\n",
    "        sb += n_class_ * np.dot(diff.T, diff)\n",
    "    \n",
    "    return sb\n"
   ]
  },
  {
   "cell_type": "code",
   "execution_count": 4,
   "id": "72596dd3",
   "metadata": {},
   "outputs": [],
   "source": [
    "def scatter_matriz_m(x, y):\n",
    "    sw = scatter_matriz_w(x, y)\n",
    "    sb = scatter_matriz_b(x, y)\n",
    "    return sw + sb"
   ]
  },
  {
   "cell_type": "code",
   "execution_count": 5,
   "id": "70c5a3d3",
   "metadata": {},
   "outputs": [],
   "source": [
    "X = np.array([\n",
    "    [1, 2, 3],\n",
    "    [2, 3, 4],\n",
    "    [3, 4, 5],\n",
    "    [77, 84, 69],\n",
    "    [84, 69, 102],\n",
    "    [96, 102, 113]\n",
    "])\n",
    "y = np.array([0, 0, 0, 1, 1, 1])"
   ]
  },
  {
   "cell_type": "code",
   "execution_count": 6,
   "id": "b1556fc9",
   "metadata": {},
   "outputs": [
    {
     "data": {
      "text/plain": [
       "array([[ 53.2037037 ,  60.42592593,  86.7037037 ],\n",
       "       [ 60.42592593, 145.89814815,  39.42592593],\n",
       "       [ 86.7037037 ,  39.42592593, 292.4537037 ]])"
      ]
     },
     "execution_count": 6,
     "metadata": {},
     "output_type": "execute_result"
    }
   ],
   "source": [
    "sw = scatter_matriz_w(X, y)\n",
    "sw"
   ]
  },
  {
   "cell_type": "code",
   "execution_count": 7,
   "id": "191072ee",
   "metadata": {},
   "outputs": [
    {
     "data": {
      "text/plain": [
       "np.float64(491.55555555555554)"
      ]
     },
     "execution_count": 7,
     "metadata": {},
     "output_type": "execute_result"
    }
   ],
   "source": [
    "np.trace(sw)"
   ]
  },
  {
   "cell_type": "code",
   "execution_count": 8,
   "id": "71b43753",
   "metadata": {},
   "outputs": [
    {
     "data": {
      "text/plain": [
       "array([[21902.25925926, 21902.25925926, 21902.25925926],\n",
       "       [21902.25925926, 21902.25925926, 21902.25925926],\n",
       "       [21902.25925926, 21902.25925926, 21902.25925926]])"
      ]
     },
     "execution_count": 8,
     "metadata": {},
     "output_type": "execute_result"
    }
   ],
   "source": [
    "sb = scatter_matriz_b(X, y)\n",
    "sb"
   ]
  },
  {
   "cell_type": "code",
   "execution_count": 9,
   "id": "c701ccd3",
   "metadata": {},
   "outputs": [
    {
     "data": {
      "text/plain": [
       "np.float64(65706.77777777777)"
      ]
     },
     "execution_count": 9,
     "metadata": {},
     "output_type": "execute_result"
    }
   ],
   "source": [
    "np.trace(sb)"
   ]
  },
  {
   "cell_type": "code",
   "execution_count": 10,
   "id": "189bd426",
   "metadata": {},
   "outputs": [
    {
     "data": {
      "text/plain": [
       "array([[21955.46296296, 21962.68518519, 21988.96296296],\n",
       "       [21962.68518519, 22048.15740741, 21941.68518519],\n",
       "       [21988.96296296, 21941.68518519, 22194.71296296]])"
      ]
     },
     "execution_count": 10,
     "metadata": {},
     "output_type": "execute_result"
    }
   ],
   "source": [
    "sm = scatter_matriz_m(X, y)\n",
    "sm"
   ]
  },
  {
   "cell_type": "code",
   "execution_count": 11,
   "id": "64c2856e",
   "metadata": {},
   "outputs": [
    {
     "data": {
      "text/plain": [
       "np.float64(66198.33333333333)"
      ]
     },
     "execution_count": 11,
     "metadata": {},
     "output_type": "execute_result"
    }
   ],
   "source": [
    "np.trace(sm)"
   ]
  }
 ],
 "metadata": {
  "kernelspec": {
   "display_name": ".venv",
   "language": "python",
   "name": "python3"
  },
  "language_info": {
   "codemirror_mode": {
    "name": "ipython",
    "version": 3
   },
   "file_extension": ".py",
   "mimetype": "text/x-python",
   "name": "python",
   "nbconvert_exporter": "python",
   "pygments_lexer": "ipython3",
   "version": "3.13.2"
  }
 },
 "nbformat": 4,
 "nbformat_minor": 5
}
