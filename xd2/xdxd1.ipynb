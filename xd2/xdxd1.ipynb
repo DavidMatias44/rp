{
 "cells": [
  {
   "cell_type": "code",
   "execution_count": 21,
   "id": "39704016",
   "metadata": {},
   "outputs": [],
   "source": [
    "import numpy as np"
   ]
  },
  {
   "cell_type": "code",
   "execution_count": null,
   "id": "ff8ce9d0",
   "metadata": {},
   "outputs": [],
   "source": [
    "def scatter_matriz_w(x, y):\n",
    "    classes, counts = np.unique(y, return_counts=True)\n",
    "    priori = counts / len(y)\n",
    "    \n",
    "    sw = np.zeros((x.shape[1], x.shape[1]))\n",
    "    for i, class_ in enumerate(classes):\n",
    "        x_class_ = x[y == class_]\n",
    "        mean_class_ = np.mean(x_class_)\n",
    "\n",
    "        cov_class_ = np.dot((x_class_ - mean_class_).T, (x_class_ - mean_class_)) / (counts[i] - 1)\n",
    "        sw += priori[i] * cov_class_\n",
    "    \n",
    "    return sw"
   ]
  },
  {
   "cell_type": "code",
   "execution_count": 23,
   "id": "cdf66302",
   "metadata": {},
   "outputs": [],
   "source": [
    "def scatter_matriz_b(x, y):\n",
    "    sb = np.zeros((x.shape[1], x.shape[1]))\n",
    "    global_mean = np.mean(x)\n",
    "\n",
    "    classes = np.unique(y)\n",
    "    for class_ in classes:\n",
    "        x_class_ = x[y == class_]\n",
    "        mean_class_ = np.mean(x_class_)\n",
    "        n_class_ = x.shape[0]\n",
    "\n",
    "        diff = mean_class_ - global_mean\n",
    "        diff = diff.reshape(-1, 1)\n",
    "        sb += n_class_ * np.dot(diff.T, diff)\n",
    "    \n",
    "    return sb\n"
   ]
  },
  {
   "cell_type": "code",
   "execution_count": 24,
   "id": "72596dd3",
   "metadata": {},
   "outputs": [],
   "source": [
    "def scatter_matriz_m(x, y):\n",
    "    sw = scatter_matriz_w(x, y)\n",
    "    sb = scatter_matriz_b(x, y)\n",
    "    return sw + sb"
   ]
  },
  {
   "cell_type": "code",
   "execution_count": 25,
   "id": "70c5a3d3",
   "metadata": {},
   "outputs": [],
   "source": [
    "X = np.array([\n",
    "    [1, 2, 3],\n",
    "    [2, 3, 4],\n",
    "    [3, 4, 5],\n",
    "    [77, 84, 69],\n",
    "    [84, 69, 102],\n",
    "    [96, 102, 113]\n",
    "])\n",
    "y = np.array([0, 0, 0, 1, 1, 1])"
   ]
  },
  {
   "cell_type": "code",
   "execution_count": 26,
   "id": "b1556fc9",
   "metadata": {},
   "outputs": [
    {
     "ename": "TypeError",
     "evalue": "'numpy.ndarray' object is not callable",
     "output_type": "error",
     "traceback": [
      "\u001b[31m---------------------------------------------------------------------------\u001b[39m",
      "\u001b[31mTypeError\u001b[39m                                 Traceback (most recent call last)",
      "\u001b[36mCell\u001b[39m\u001b[36m \u001b[39m\u001b[32mIn[26]\u001b[39m\u001b[32m, line 1\u001b[39m\n\u001b[32m----> \u001b[39m\u001b[32m1\u001b[39m sw = \u001b[43mscatter_matriz_w\u001b[49m\u001b[43m(\u001b[49m\u001b[43mX\u001b[49m\u001b[43m,\u001b[49m\u001b[43m \u001b[49m\u001b[43my\u001b[49m\u001b[43m)\u001b[49m\n\u001b[32m      2\u001b[39m sw\n",
      "\u001b[36mCell\u001b[39m\u001b[36m \u001b[39m\u001b[32mIn[22]\u001b[39m\u001b[32m, line 11\u001b[39m, in \u001b[36mscatter_matriz_w\u001b[39m\u001b[34m(x, y)\u001b[39m\n\u001b[32m      8\u001b[39m     mean_class_ = np.mean(x_class_)\n\u001b[32m     10\u001b[39m     cov_class_ = np.dot((x_class_ - mean_class_).T, (x_class_ - mean_class_)) / (counts[i] - \u001b[32m1\u001b[39m)\n\u001b[32m---> \u001b[39m\u001b[32m11\u001b[39m     sw += \u001b[43mpriori\u001b[49m\u001b[43m(\u001b[49m\u001b[43m[\u001b[49m\u001b[43mi\u001b[49m\u001b[43m]\u001b[49m\u001b[43m)\u001b[49m * cov_class_\n\u001b[32m     13\u001b[39m \u001b[38;5;28;01mreturn\u001b[39;00m sw\n",
      "\u001b[31mTypeError\u001b[39m: 'numpy.ndarray' object is not callable"
     ]
    }
   ],
   "source": [
    "sw = scatter_matriz_w(X, y)\n",
    "sw"
   ]
  },
  {
   "cell_type": "code",
   "execution_count": null,
   "id": "191072ee",
   "metadata": {},
   "outputs": [
    {
     "data": {
      "text/plain": [
       "np.float64(1966.2222222222222)"
      ]
     },
     "execution_count": 19,
     "metadata": {},
     "output_type": "execute_result"
    }
   ],
   "source": [
    "np.trace(sw)"
   ]
  },
  {
   "cell_type": "code",
   "execution_count": null,
   "id": "71b43753",
   "metadata": {},
   "outputs": [
    {
     "data": {
      "text/plain": [
       "array([[21902.25925926, 21902.25925926, 21902.25925926],\n",
       "       [21902.25925926, 21902.25925926, 21902.25925926],\n",
       "       [21902.25925926, 21902.25925926, 21902.25925926]])"
      ]
     },
     "execution_count": 14,
     "metadata": {},
     "output_type": "execute_result"
    }
   ],
   "source": [
    "sb = scatter_matriz_b(X, y)\n",
    "sb"
   ]
  },
  {
   "cell_type": "code",
   "execution_count": null,
   "id": "c701ccd3",
   "metadata": {},
   "outputs": [
    {
     "data": {
      "text/plain": [
       "np.float64(65706.77777777777)"
      ]
     },
     "execution_count": 18,
     "metadata": {},
     "output_type": "execute_result"
    }
   ],
   "source": [
    "np.trace(sb)"
   ]
  },
  {
   "cell_type": "code",
   "execution_count": null,
   "id": "189bd426",
   "metadata": {},
   "outputs": [
    {
     "data": {
      "text/plain": [
       "array([[22115.07407407, 22143.96296296, 22249.07407407],\n",
       "       [22143.96296296, 22485.85185185, 22059.96296296],\n",
       "       [22249.07407407, 22059.96296296, 23072.07407407]])"
      ]
     },
     "execution_count": 17,
     "metadata": {},
     "output_type": "execute_result"
    }
   ],
   "source": [
    "sm = scatter_matriz_m(X, y)\n",
    "sm"
   ]
  },
  {
   "cell_type": "code",
   "execution_count": null,
   "id": "64c2856e",
   "metadata": {},
   "outputs": [
    {
     "data": {
      "text/plain": [
       "np.float64(67672.99999999999)"
      ]
     },
     "execution_count": 20,
     "metadata": {},
     "output_type": "execute_result"
    }
   ],
   "source": [
    "np.trace(sm)"
   ]
  }
 ],
 "metadata": {
  "kernelspec": {
   "display_name": "Python 3",
   "language": "python",
   "name": "python3"
  },
  "language_info": {
   "codemirror_mode": {
    "name": "ipython",
    "version": 3
   },
   "file_extension": ".py",
   "mimetype": "text/x-python",
   "name": "python",
   "nbconvert_exporter": "python",
   "pygments_lexer": "ipython3",
   "version": "3.13.2"
  }
 },
 "nbformat": 4,
 "nbformat_minor": 5
}
