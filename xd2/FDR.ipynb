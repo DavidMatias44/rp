{
 "cells": [
  {
   "cell_type": "code",
   "execution_count": 1,
   "id": "93512e38",
   "metadata": {},
   "outputs": [],
   "source": [
    "import numpy as np\n",
    "from itertools import combinations"
   ]
  },
  {
   "cell_type": "code",
   "execution_count": 2,
   "id": "69589e0b",
   "metadata": {},
   "outputs": [],
   "source": [
    "def scatter_matriz_w(x, y):\n",
    "    classes, counts = np.unique(y, return_counts=True)\n",
    "    priori = counts / len(y)\n",
    "    \n",
    "    sw = np.zeros((x.shape[1], x.shape[1]))\n",
    "    for i, class_ in enumerate(classes):\n",
    "        y_class_ = (y == class_)\n",
    "        x_temp = x.T[y_class_]\n",
    "        mean_class_ = np.mean(x_temp)\n",
    "        print(mean_class_)\n",
    "\n",
    "        np.cov()\n",
    "        # cov_class_ = np.dot((x_class_ - mean_class_).T, (x_class_ - mean_class_)) / (counts[i] - 1)\n",
    "        # sw += priori[i] * cov_class_\n",
    "    \n",
    "    return sw"
   ]
  },
  {
   "cell_type": "code",
   "execution_count": 3,
   "id": "a2f0331c",
   "metadata": {},
   "outputs": [],
   "source": [
    "def FDR(X, y, ind):\n",
    "    l, N = X.shape\n",
    "    num_classes = np.max(y)\n",
    "\n",
    "    m = np.zeros(num_classes)\n",
    "    v = np.zeros(num_classes)\n",
    "    for i in range(1, num_classes+1):\n",
    "        y_temp = (y == i) \n",
    "        X_temp = X[ind][y_temp]\n",
    "\n",
    "        m[i-1] = np.mean(X_temp)\n",
    "        v[i-1] = np.var(X_temp)\n",
    "    \n",
    "    a = list(combinations(range(num_classes), 2))\n",
    "    q = [ (m[elem[0]] - m[elem[1]]) ** 2 / (v[elem[0]] + v[elem[1]]) for elem in a]\n",
    "\n",
    "    return np.sum(q)"
   ]
  },
  {
   "cell_type": "code",
   "execution_count": 4,
   "id": "a359cf8c",
   "metadata": {},
   "outputs": [
    {
     "data": {
      "text/plain": [
       "array([[11, 24, 33, 35, 22, 12],\n",
       "       [14, 27, 39, 34, 24, 15],\n",
       "       [18, 26, 30, 33, 21, 10]])"
      ]
     },
     "execution_count": 4,
     "metadata": {},
     "output_type": "execute_result"
    }
   ],
   "source": [
    "X = np.array([\n",
    "    [11, 24, 33, 35, 22, 12],\n",
    "    [14, 27, 39, 34, 24, 15],\n",
    "    [18, 26, 30, 33, 21, 10],\n",
    "])\n",
    "X"
   ]
  },
  {
   "cell_type": "code",
   "execution_count": 5,
   "id": "8dc2fc0a",
   "metadata": {},
   "outputs": [
    {
     "data": {
      "text/plain": [
       "array([1, 2, 3, 3, 2, 1])"
      ]
     },
     "execution_count": 5,
     "metadata": {},
     "output_type": "execute_result"
    }
   ],
   "source": [
    "y = np.array([1, 2, 3, 3, 2, 1])\n",
    "y"
   ]
  },
  {
   "cell_type": "code",
   "execution_count": 6,
   "id": "c6d5b258",
   "metadata": {},
   "outputs": [
    {
     "name": "stdout",
     "output_type": "stream",
     "text": [
      "571.3\n"
     ]
    }
   ],
   "source": [
    "ind = 0\n",
    "res = FDR(X, y, ind)\n",
    "print(res)"
   ]
  },
  {
   "cell_type": "code",
   "execution_count": 7,
   "id": "fcfbe727",
   "metadata": {},
   "outputs": [
    {
     "name": "stdout",
     "output_type": "stream",
     "text": [
      "137.0968325791855\n"
     ]
    }
   ],
   "source": [
    "ind = 1\n",
    "res = FDR(X, y, ind)\n",
    "print(res)"
   ]
  },
  {
   "cell_type": "code",
   "execution_count": 8,
   "id": "63fa781d",
   "metadata": {},
   "outputs": [
    {
     "name": "stdout",
     "output_type": "stream",
     "text": [
      "28.366413457794998\n"
     ]
    }
   ],
   "source": [
    "ind = 2\n",
    "res = FDR(X, y, ind)\n",
    "print(res)"
   ]
  },
  {
   "cell_type": "code",
   "execution_count": 9,
   "id": "76a74344",
   "metadata": {},
   "outputs": [
    {
     "name": "stdout",
     "output_type": "stream",
     "text": [
      "13.333333333333334\n"
     ]
    },
    {
     "ename": "TypeError",
     "evalue": "cov() missing 1 required positional argument: 'm'",
     "output_type": "error",
     "traceback": [
      "\u001b[31m---------------------------------------------------------------------------\u001b[39m",
      "\u001b[31mTypeError\u001b[39m                                 Traceback (most recent call last)",
      "\u001b[36mCell\u001b[39m\u001b[36m \u001b[39m\u001b[32mIn[9]\u001b[39m\u001b[32m, line 1\u001b[39m\n\u001b[32m----> \u001b[39m\u001b[32m1\u001b[39m sw = \u001b[43mscatter_matriz_w\u001b[49m\u001b[43m(\u001b[49m\u001b[43mX\u001b[49m\u001b[43m,\u001b[49m\u001b[43m \u001b[49m\u001b[43my\u001b[49m\u001b[43m)\u001b[49m\n\u001b[32m      2\u001b[39m \u001b[38;5;28mprint\u001b[39m(sw)\n",
      "\u001b[36mCell\u001b[39m\u001b[36m \u001b[39m\u001b[32mIn[2]\u001b[39m\u001b[32m, line 12\u001b[39m, in \u001b[36mscatter_matriz_w\u001b[39m\u001b[34m(x, y)\u001b[39m\n\u001b[32m      9\u001b[39m     mean_class_ = np.mean(x_temp)\n\u001b[32m     10\u001b[39m     \u001b[38;5;28mprint\u001b[39m(mean_class_)\n\u001b[32m---> \u001b[39m\u001b[32m12\u001b[39m     \u001b[43mnp\u001b[49m\u001b[43m.\u001b[49m\u001b[43mcov\u001b[49m\u001b[43m(\u001b[49m\u001b[43m)\u001b[49m\n\u001b[32m     13\u001b[39m     \u001b[38;5;66;03m# cov_class_ = np.dot((x_class_ - mean_class_).T, (x_class_ - mean_class_)) / (counts[i] - 1)\u001b[39;00m\n\u001b[32m     14\u001b[39m     \u001b[38;5;66;03m# sw += priori[i] * cov_class_\u001b[39;00m\n\u001b[32m     16\u001b[39m \u001b[38;5;28;01mreturn\u001b[39;00m sw\n",
      "\u001b[31mTypeError\u001b[39m: cov() missing 1 required positional argument: 'm'"
     ]
    }
   ],
   "source": [
    "sw = scatter_matriz_w(X, y)\n",
    "print(sw)"
   ]
  }
 ],
 "metadata": {
  "kernelspec": {
   "display_name": ".venv",
   "language": "python",
   "name": "python3"
  },
  "language_info": {
   "codemirror_mode": {
    "name": "ipython",
    "version": 3
   },
   "file_extension": ".py",
   "mimetype": "text/x-python",
   "name": "python",
   "nbconvert_exporter": "python",
   "pygments_lexer": "ipython3",
   "version": "3.13.2"
  }
 },
 "nbformat": 4,
 "nbformat_minor": 5
}
