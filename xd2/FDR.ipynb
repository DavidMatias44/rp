{
 "cells": [
  {
   "cell_type": "code",
   "execution_count": 105,
   "id": "93512e38",
   "metadata": {},
   "outputs": [],
   "source": [
    "import numpy as np\n",
    "from itertools import combinations"
   ]
  },
  {
   "cell_type": "code",
   "execution_count": 106,
   "id": "a2f0331c",
   "metadata": {},
   "outputs": [],
   "source": [
    "def FDR(X, y, ind):\n",
    "    l, N = X.shape\n",
    "    num_classes = np.max(y)\n",
    "\n",
    "    m = np.zeros(num_classes)\n",
    "    v = np.zeros(num_classes)\n",
    "    for i in range(1, num_classes+1):\n",
    "        y_temp = (y == i) \n",
    "        X_temp = X[ind][y_temp]\n",
    "\n",
    "        m[i-1] = np.mean(X_temp)\n",
    "        v[i-1] = np.var(X_temp)\n",
    "    \n",
    "    a = list(combinations(range(num_classes), 2))\n",
    "    q = [ (m[elem[0]] - m[elem[1]]) ** 2 / (v[elem[0]] + v[elem[1]]) for elem in a]\n",
    "\n",
    "    return np.sum(q)"
   ]
  },
  {
   "cell_type": "code",
   "execution_count": 107,
   "id": "a359cf8c",
   "metadata": {},
   "outputs": [
    {
     "data": {
      "text/plain": [
       "array([[11, 24, 33, 35, 22, 12],\n",
       "       [14, 27, 39, 34, 24, 15],\n",
       "       [18, 26, 30, 33, 21, 10]])"
      ]
     },
     "execution_count": 107,
     "metadata": {},
     "output_type": "execute_result"
    }
   ],
   "source": [
    "X = np.array([\n",
    "    [11, 24, 33, 35, 22, 12],\n",
    "    [14, 27, 39, 34, 24, 15],\n",
    "    [18, 26, 30, 33, 21, 10],\n",
    "])\n",
    "X"
   ]
  },
  {
   "cell_type": "code",
   "execution_count": 108,
   "id": "8dc2fc0a",
   "metadata": {},
   "outputs": [
    {
     "data": {
      "text/plain": [
       "array([1, 2, 3, 3, 2, 1])"
      ]
     },
     "execution_count": 108,
     "metadata": {},
     "output_type": "execute_result"
    }
   ],
   "source": [
    "y = np.array([1, 2, 3, 3, 2, 1])\n",
    "y"
   ]
  },
  {
   "cell_type": "code",
   "execution_count": 109,
   "id": "c6d5b258",
   "metadata": {},
   "outputs": [
    {
     "name": "stdout",
     "output_type": "stream",
     "text": [
      "571.3\n"
     ]
    }
   ],
   "source": [
    "ind = 0\n",
    "res = FDR(X, y, ind)\n",
    "print(res)"
   ]
  },
  {
   "cell_type": "code",
   "execution_count": 110,
   "id": "fcfbe727",
   "metadata": {},
   "outputs": [
    {
     "name": "stdout",
     "output_type": "stream",
     "text": [
      "137.0968325791855\n"
     ]
    }
   ],
   "source": [
    "ind = 1\n",
    "res = FDR(X, y, ind)\n",
    "print(res)"
   ]
  },
  {
   "cell_type": "code",
   "execution_count": 111,
   "id": "63fa781d",
   "metadata": {},
   "outputs": [
    {
     "name": "stdout",
     "output_type": "stream",
     "text": [
      "28.366413457794998\n"
     ]
    }
   ],
   "source": [
    "ind = 2\n",
    "res = FDR(X, y, ind)\n",
    "print(res)"
   ]
  }
 ],
 "metadata": {
  "kernelspec": {
   "display_name": ".venv",
   "language": "python",
   "name": "python3"
  },
  "language_info": {
   "codemirror_mode": {
    "name": "ipython",
    "version": 3
   },
   "file_extension": ".py",
   "mimetype": "text/x-python",
   "name": "python",
   "nbconvert_exporter": "python",
   "pygments_lexer": "ipython3",
   "version": "3.13.3"
  }
 },
 "nbformat": 4,
 "nbformat_minor": 5
}
